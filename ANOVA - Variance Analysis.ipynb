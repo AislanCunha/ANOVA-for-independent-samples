{
 "cells": [
  {
   "cell_type": "markdown",
   "id": "888cc0d4",
   "metadata": {},
   "source": [
    "# ANOVA for independent samples normal and homoscedastic"
   ]
  },
  {
   "cell_type": "markdown",
   "id": "d693488d",
   "metadata": {},
   "source": [
    "### First - Import the libraries"
   ]
  },
  {
   "cell_type": "code",
   "execution_count": 1,
   "id": "e2b28f4b",
   "metadata": {},
   "outputs": [],
   "source": [
    "import scipy.stats as stats\n",
    "import pandas as pd\n",
    "import numpy as np\n",
    "from scipy.stats import bartlett"
   ]
  },
  {
   "cell_type": "markdown",
   "id": "c537f905",
   "metadata": {},
   "source": [
    "### Second - import the data"
   ]
  },
  {
   "cell_type": "code",
   "execution_count": 2,
   "id": "430c3f3a",
   "metadata": {},
   "outputs": [
    {
     "name": "stdout",
     "output_type": "stream",
     "text": [
      "      A    B    C    D    E\n",
      "0   134  131  127  128   83\n",
      "1   139   93   85   96  135\n",
      "2    91  132   85  112  121\n",
      "3   122  115   95   88   90\n",
      "4   102  138  135   96   92\n",
      "..  ...  ...  ...  ...  ...\n",
      "95   96   98  143  132  122\n",
      "96  144  136   87  120  123\n",
      "97  139  136  130   98  136\n",
      "98   97  108   82   80  135\n",
      "99  132  122  120  101  132\n",
      "\n",
      "[100 rows x 5 columns]\n"
     ]
    }
   ],
   "source": [
    "df = pd.read_csv('Samples_independenty_Normal.csv')\n",
    "print (df)"
   ]
  },
  {
   "cell_type": "markdown",
   "id": "f35a785a",
   "metadata": {},
   "source": [
    "### Third - Test the Normality of samples"
   ]
  },
  {
   "cell_type": "code",
   "execution_count": 3,
   "id": "7357e6b2",
   "metadata": {},
   "outputs": [],
   "source": [
    "a = df['A']\n",
    "b = df['B']\n",
    "c = df['C']\n",
    "d = df['D']\n",
    "e = df['E']"
   ]
  },
  {
   "cell_type": "markdown",
   "id": "efa9f8c0",
   "metadata": {},
   "source": [
    "### Column A"
   ]
  },
  {
   "cell_type": "code",
   "execution_count": 4,
   "id": "5cbaf91e",
   "metadata": {},
   "outputs": [
    {
     "name": "stdout",
     "output_type": "stream",
     "text": [
      "110.64\n",
      "18.201933963180945\n"
     ]
    }
   ],
   "source": [
    "average_a = np.mean(a)\n",
    "print(average_a)\n",
    "standard_deviation_a = np.std(a-1)\n",
    "print(standard_deviation_a)"
   ]
  },
  {
   "cell_type": "code",
   "execution_count": 5,
   "id": "7a62630d",
   "metadata": {},
   "outputs": [
    {
     "name": "stdout",
     "output_type": "stream",
     "text": [
      "0.11249062132279214\n",
      "0.14737783608101995\n"
     ]
    }
   ],
   "source": [
    "test_value_a, p_value_a = stats.kstest(a, cdf='norm', args=(average_a, standard_deviation_a), N=len(a))\n",
    "print(test_value_a)\n",
    "print(p_value_a)"
   ]
  },
  {
   "cell_type": "code",
   "execution_count": 6,
   "id": "d9c60080",
   "metadata": {},
   "outputs": [
    {
     "name": "stdout",
     "output_type": "stream",
     "text": [
      "The test presented with 95% confidence that the data behaved like a normal distribution.\n"
     ]
    }
   ],
   "source": [
    "if p_value_a > 0.05:\n",
    "    print(\"The test presented with 95% confidence that the data behaved like a normal distribution.\")\n",
    "else:\n",
    "    print(\"The test presented with 95% confidence that the data did not behave like a normal distribution.\")"
   ]
  },
  {
   "cell_type": "markdown",
   "id": "8b8f1f63",
   "metadata": {},
   "source": [
    "### Column B"
   ]
  },
  {
   "cell_type": "code",
   "execution_count": 7,
   "id": "4b2f76ab",
   "metadata": {},
   "outputs": [
    {
     "name": "stdout",
     "output_type": "stream",
     "text": [
      "111.85\n",
      "18.405637723262945\n"
     ]
    }
   ],
   "source": [
    "average_b = np.mean(b)\n",
    "print(average_b)\n",
    "standard_deviation_b = np.std(b-1)\n",
    "print(standard_deviation_b)"
   ]
  },
  {
   "cell_type": "code",
   "execution_count": 8,
   "id": "337b54d0",
   "metadata": {},
   "outputs": [
    {
     "name": "stdout",
     "output_type": "stream",
     "text": [
      "0.10542205969538854\n",
      "0.2015784358191075\n"
     ]
    }
   ],
   "source": [
    "test_value_b, p_value_b = stats.kstest(b, cdf='norm', args=(average_b, standard_deviation_b), N=len(b))\n",
    "print(test_value_b)\n",
    "print(p_value_b)"
   ]
  },
  {
   "cell_type": "code",
   "execution_count": 9,
   "id": "7dfb3c3f",
   "metadata": {},
   "outputs": [
    {
     "name": "stdout",
     "output_type": "stream",
     "text": [
      "The test presented with 95% confidence that the data behaved like a normal distribution.\n"
     ]
    }
   ],
   "source": [
    "if p_value_b > 0.05:\n",
    "    print(\"The test presented with 95% confidence that the data behaved like a normal distribution.\")\n",
    "else:\n",
    "    print(\"The test presented with 95% confidence that the data did not behave like a normal distribution.\")"
   ]
  },
  {
   "cell_type": "markdown",
   "id": "feefff50",
   "metadata": {},
   "source": [
    "### Column C"
   ]
  },
  {
   "cell_type": "code",
   "execution_count": 10,
   "id": "a3370d0c",
   "metadata": {},
   "outputs": [
    {
     "name": "stdout",
     "output_type": "stream",
     "text": [
      "111.29\n",
      "18.694007061087788\n"
     ]
    }
   ],
   "source": [
    "average_c = np.mean(c)\n",
    "print(average_c)\n",
    "standard_deviation_c = np.std(c-1)\n",
    "print(standard_deviation_c)"
   ]
  },
  {
   "cell_type": "code",
   "execution_count": 11,
   "id": "04a6f26d",
   "metadata": {},
   "outputs": [
    {
     "name": "stdout",
     "output_type": "stream",
     "text": [
      "0.11143403069002594\n",
      "0.1546449426271117\n"
     ]
    }
   ],
   "source": [
    "test_value_c, p_value_c = stats.kstest(c, cdf='norm', args=(average_c, standard_deviation_c), N=len(c))\n",
    "print(test_value_c)\n",
    "print(p_value_c)"
   ]
  },
  {
   "cell_type": "code",
   "execution_count": 12,
   "id": "2b03f13a",
   "metadata": {},
   "outputs": [
    {
     "name": "stdout",
     "output_type": "stream",
     "text": [
      "The test presented with 95% confidence that the data behaved like a normal distribution.\n"
     ]
    }
   ],
   "source": [
    "if p_value_c > 0.05:\n",
    "    print(\"The test presented with 95% confidence that the data behaved like a normal distribution.\")\n",
    "else:\n",
    "    print(\"The test presented with 95% confidence that the data did not behave like a normal distribution.\")"
   ]
  },
  {
   "cell_type": "markdown",
   "id": "6c0bc758",
   "metadata": {},
   "source": [
    "### Column D"
   ]
  },
  {
   "cell_type": "code",
   "execution_count": 13,
   "id": "cfb8b226",
   "metadata": {},
   "outputs": [
    {
     "name": "stdout",
     "output_type": "stream",
     "text": [
      "112.65\n",
      "17.604757879618795\n"
     ]
    }
   ],
   "source": [
    "average_d = np.mean(d)\n",
    "print(average_d)\n",
    "standard_deviation_d = np.std(d-1)\n",
    "print(standard_deviation_d)"
   ]
  },
  {
   "cell_type": "code",
   "execution_count": 14,
   "id": "54b0a571",
   "metadata": {},
   "outputs": [
    {
     "name": "stdout",
     "output_type": "stream",
     "text": [
      "0.07593520961381156\n",
      "0.5847215648222708\n"
     ]
    }
   ],
   "source": [
    "test_value_d, p_value_d = stats.kstest(d, cdf='norm', args=(average_d, standard_deviation_d), N=len(d))\n",
    "print(test_value_d)\n",
    "print(p_value_d)"
   ]
  },
  {
   "cell_type": "code",
   "execution_count": 15,
   "id": "ee26cdc7",
   "metadata": {},
   "outputs": [
    {
     "name": "stdout",
     "output_type": "stream",
     "text": [
      "The test presented with 95% confidence that the data behaved like a normal distribution.\n"
     ]
    }
   ],
   "source": [
    "if p_value_d > 0.05:\n",
    "    print(\"The test presented with 95% confidence that the data behaved like a normal distribution.\")\n",
    "else:\n",
    "    print(\"The test presented with 95% confidence that the data did not behave like a normal distribution.\")"
   ]
  },
  {
   "cell_type": "markdown",
   "id": "d69cb041",
   "metadata": {},
   "source": [
    "### Column E"
   ]
  },
  {
   "cell_type": "code",
   "execution_count": 16,
   "id": "24c02a6e",
   "metadata": {},
   "outputs": [
    {
     "name": "stdout",
     "output_type": "stream",
     "text": [
      "113.97\n",
      "18.600782241615537\n"
     ]
    }
   ],
   "source": [
    "average_e = np.mean(e)\n",
    "print(average_e)\n",
    "standard_deviation_e = np.std(e-1)\n",
    "print(standard_deviation_e)"
   ]
  },
  {
   "cell_type": "code",
   "execution_count": 17,
   "id": "d26b26ef",
   "metadata": {},
   "outputs": [
    {
     "name": "stdout",
     "output_type": "stream",
     "text": [
      "0.10850141399131141\n",
      "0.17632024154557702\n"
     ]
    }
   ],
   "source": [
    "test_value_e, p_value_e = stats.kstest(e, cdf='norm', args=(average_e, standard_deviation_e), N=len(e))\n",
    "print(test_value_e)\n",
    "print(p_value_e)"
   ]
  },
  {
   "cell_type": "code",
   "execution_count": 18,
   "id": "e7547eaf",
   "metadata": {},
   "outputs": [
    {
     "name": "stdout",
     "output_type": "stream",
     "text": [
      "The test presented with 95% confidence that the data behaved like a normal distribution.\n"
     ]
    }
   ],
   "source": [
    "if p_value_e > 0.05:\n",
    "    print(\"The test presented with 95% confidence that the data behaved like a normal distribution.\")\n",
    "else:\n",
    "    print(\"The test presented with 95% confidence that the data did not behave like a normal distribution.\")"
   ]
  },
  {
   "cell_type": "markdown",
   "id": "a77ad9de",
   "metadata": {},
   "source": [
    "### Fourth - Do the Bartlett test to Homoscedasticity"
   ]
  },
  {
   "cell_type": "code",
   "execution_count": 19,
   "id": "b3bc0a7f",
   "metadata": {},
   "outputs": [
    {
     "name": "stdout",
     "output_type": "stream",
     "text": [
      "The test value Wilcoxon to samples related = 0.44424039938665455\n",
      "The p_value Wilcoxon to samples related = 0.9786971988245933\n"
     ]
    }
   ],
   "source": [
    "res = stats.bartlett(a, b, c, d, e)\n",
    "print (\"The test value Wilcoxon to samples related = \" + str(res.statistic))\n",
    "print (\"The p_value Wilcoxon to samples related = \" + str(res.pvalue))"
   ]
  },
  {
   "cell_type": "code",
   "execution_count": 20,
   "id": "8b1b7707",
   "metadata": {},
   "outputs": [
    {
     "name": "stdout",
     "output_type": "stream",
     "text": [
      "the samples present a homogeneous distribution in their variances.\n"
     ]
    }
   ],
   "source": [
    "if res.pvalue > 0.05:\n",
    "    print(\"the samples present a homogeneous distribution in their variances.\")\n",
    "else:\n",
    "    print(\"the samples do not present a homogeneous distribution in their variances.\")"
   ]
  },
  {
   "cell_type": "markdown",
   "id": "fcd9c053",
   "metadata": {},
   "source": [
    "### Fifth - ANOVA Variance Analysis"
   ]
  },
  {
   "cell_type": "code",
   "execution_count": 23,
   "id": "32157439",
   "metadata": {},
   "outputs": [
    {
     "name": "stdout",
     "output_type": "stream",
     "text": [
      "The value of F oneway in the variance analysis ANOVA = 0.49099369940345944\n",
      "The p_value of F oneway in the variance analysis ANOVA = 0.742372371385499\n"
     ]
    }
   ],
   "source": [
    "res = stats.f_oneway(a, b, c, d, e, axis=0)\n",
    "print (\"The value of F oneway in the variance analysis ANOVA = \" + str(res.statistic))\n",
    "print (\"The p_value of F oneway in the variance analysis ANOVA = \" + str(res.pvalue))"
   ]
  },
  {
   "cell_type": "markdown",
   "id": "4df71c7f",
   "metadata": {},
   "source": [
    "### Conclusion"
   ]
  },
  {
   "cell_type": "code",
   "execution_count": 24,
   "id": "dc17af29",
   "metadata": {},
   "outputs": [
    {
     "name": "stdout",
     "output_type": "stream",
     "text": [
      "since the p-value was above 0.05, we must accept the null hypothesis and reject the alternative hypothesis.\n"
     ]
    }
   ],
   "source": [
    "if res.pvalue < 0.05:\n",
    "    print(\"As the p-value was below 0.05, we must reject the null hypothesis and accept the hypothesis alternative.\")\n",
    "else:\n",
    "    print(\"since the p-value was above 0.05, we must accept the null hypothesis and reject the alternative hypothesis.\")"
   ]
  },
  {
   "cell_type": "code",
   "execution_count": null,
   "id": "037c8757",
   "metadata": {},
   "outputs": [],
   "source": []
  }
 ],
 "metadata": {
  "kernelspec": {
   "display_name": "Python 3 (ipykernel)",
   "language": "python",
   "name": "python3"
  },
  "language_info": {
   "codemirror_mode": {
    "name": "ipython",
    "version": 3
   },
   "file_extension": ".py",
   "mimetype": "text/x-python",
   "name": "python",
   "nbconvert_exporter": "python",
   "pygments_lexer": "ipython3",
   "version": "3.9.7"
  }
 },
 "nbformat": 4,
 "nbformat_minor": 5
}
